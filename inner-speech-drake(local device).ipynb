{
 "cells": [
  {
   "cell_type": "code",
   "execution_count": 25,
   "id": "6dc76704",
   "metadata": {
    "execution": {
     "iopub.execute_input": "2023-12-12T15:33:05.782953Z",
     "iopub.status.busy": "2023-12-12T15:33:05.782378Z",
     "iopub.status.idle": "2023-12-12T15:33:19.768919Z",
     "shell.execute_reply": "2023-12-12T15:33:19.767903Z"
    },
    "papermill": {
     "duration": 13.993321,
     "end_time": "2023-12-12T15:33:19.771171",
     "exception": false,
     "start_time": "2023-12-12T15:33:05.777850",
     "status": "completed"
    },
    "tags": []
   },
   "outputs": [],
   "source": [
    "import numpy as np\n",
    "import pandas as pd\n",
    "import tensorflow as tf\n",
    "import os\n",
    "import shutil\n",
    "import mne\n",
    "import matplotlib.pyplot as pyt\n",
    "import pickle\n",
    "import random\n",
    "import warnings\n",
    "\n",
    "from data_extractions import  Extract_data_from_subject\n",
    "from data_processing import  Select_time_window, Transform_for_classificator, Split_trial_in_time\n",
    "\n",
    "np.random.seed(23)\n",
    "\n",
    "mne.set_log_level(verbose='warning') #to avoid info at terminal\n",
    "warnings.filterwarnings(action = \"ignore\", category = DeprecationWarning ) \n",
    "warnings.filterwarnings(action = \"ignore\", category = FutureWarning ) "
   ]
  },
  {
   "cell_type": "markdown",
   "id": "e8aca509",
   "metadata": {},
   "source": [
    "# Notes on Data Extraction:\n",
    "\n",
    "### Parameters\n",
    "> - Sampling Rate (fs) = 256\n",
    "> - data type: eeg, exg or baseline\n",
    "> - T-start: start of window (t=0: focus, t=0.5: arrow, t=1: cue (thinking), t=3.5: rest t=4.5: end)\n",
    "> - T-end: close of window\n",
    "> - N_S: subject number (1 through 10)\n",
    "> - N_B: Session (batch) number\n",
    "\n",
    "### Extract_subject_from_BDF(root_dir,N_S,N_B):\n",
    "\n",
    "> Loads raw data for subject and session. Takes the directory pointing to folder containing all recordings\n",
    "> and preprocessed files, subject number and session/batch number, and returns (raw data, subject number)\n",
    "\n",
    "### Extract_data_from_subject(root_dir,N_S,datatype):\n",
    "\n",
    "> Loads all blocks for one subject and stacks results. Takes the directory, calls the file for specified data \n",
    "> under the specified subject, and stacks all samples into one object. Also calls the labels. Returns (X,Y): \n",
    "> object with stacked trials/samples, and object with correlated labels.\n",
    "\n",
    "### Extract_block_data_from_subject(root_dir,N_S,datatype,N_B):\n",
    "\n",
    "> Does the same as above Extract_data_from_subject, but for a specified N_B (batch or session number).\n",
    "> returns (data samples, labels)\n",
    "\n",
    "### Extract_report(root_dir,N_B,N_S):\n",
    "\n",
    "> Pulls report with information regarding the given subject and session. Includes subject age, gender,\n",
    "> length of recording, count of correct and incorrect answer to control questions, position of contaminated\n",
    "> trials, mean power for EXG channels 7 & 8, and mean and STD for EXG 7 & 8 baseline recordings.\n",
    "\n",
    "### Extract_TFR(TRF_dir, Cond, Class, TFR_method , TRF_type):\n",
    "\n",
    "> Returns Time-Frequency Representation of specified condition and class. \n",
    ">\n",
    "> *Note: location of TRF data unclear, not likely to use in scope of project.*\n",
    "\n",
    "### Extract_data_multisubject(root_dir, N_S_list, datatype='EEG'):\n",
    "\n",
    "> Creates a stacked object of all sessions for all listed subjects and returns the stacked trials/samples\n",
    "> along with a stack of the corresponding labels.\n",
    "\n",
    "### load_events(root_dir,N_S,N_B):\n",
    "\n",
    "> Loads the events file to gather the label(s) for dataset using root directory, subject, and batch number.\n",
    "\n",
    "### Select_time_window(X,t_start=1, t_end=2.5, fs=256):\n",
    "\n",
    "> Cuts samples to desired time window.\n",
    "\n",
    "### Transform_for_classificator (X, Y, Classes, Conditions):\n",
    "\n",
    "> Pulls from the extracted dataset the trials and labels that correspond to the conditions and classes that\n",
    "> will be used for training and/or testing.\n"
   ]
  },
  {
   "cell_type": "code",
   "execution_count": 27,
   "id": "074b110a",
   "metadata": {},
   "outputs": [],
   "source": [
    "root_dir = r\"C:\\Users\\peewe\\Python Projects\\Python_Projects\\ML Project\\ml-project\\inner-speech-recognition\""
   ]
  },
  {
   "cell_type": "code",
   "execution_count": 57,
   "id": "c66708a9",
   "metadata": {},
   "outputs": [],
   "source": [
    "N_S = 2\n",
    "datatype = 'eeg'\n",
    "Tstart = 1.5\n",
    "Tend = 3.5\n",
    "fs = 256\n",
    "\n",
    "X,Y = Extract_data_from_subject(root_dir,N_S,datatype)\n"
   ]
  },
  {
   "cell_type": "code",
   "execution_count": 58,
   "id": "371d001d",
   "metadata": {},
   "outputs": [],
   "source": [
    "Subj_2 = Select_time_window(X = X, t_start = Tstart, t_end = Tend, fs = fs)"
   ]
  },
  {
   "cell_type": "code",
   "execution_count": 5,
   "id": "67436374",
   "metadata": {
    "execution": {
     "iopub.execute_input": "2023-12-12T15:33:19.778978Z",
     "iopub.status.busy": "2023-12-12T15:33:19.778374Z",
     "iopub.status.idle": "2023-12-12T15:33:19.782830Z",
     "shell.execute_reply": "2023-12-12T15:33:19.781909Z"
    },
    "papermill": {
     "duration": 0.010163,
     "end_time": "2023-12-12T15:33:19.785364",
     "exception": false,
     "start_time": "2023-12-12T15:33:19.775201",
     "status": "completed"
    },
    "tags": []
   },
   "outputs": [],
   "source": [
    "root_dir = 'C:/Users/peewe/Python Projects/Python_Projects/ML Project/ml-project/inner-speech-recognition'"
   ]
  },
  {
   "cell_type": "code",
   "execution_count": 20,
   "id": "65f57989",
   "metadata": {
    "execution": {
     "iopub.execute_input": "2023-12-12T15:33:32.178227Z",
     "iopub.status.busy": "2023-12-12T15:33:32.177805Z",
     "iopub.status.idle": "2023-12-12T15:33:32.611093Z",
     "shell.execute_reply": "2023-12-12T15:33:32.610199Z"
    },
    "papermill": {
     "duration": 0.438986,
     "end_time": "2023-12-12T15:33:32.613034",
     "exception": false,
     "start_time": "2023-12-12T15:33:32.174048",
     "status": "completed"
    },
    "tags": []
   },
   "outputs": [],
   "source": [
    "eeg_epochs = mne.read_epochs(r'C:\\Users\\peewe\\Python Projects\\Python_Projects\\ML Project\\ml-project\\inner-speech-recognition\\derivatives\\sub-01\\ses-01\\sub-01_ses-01_eeg-epo.fif')\n"
   ]
  },
  {
   "cell_type": "code",
   "execution_count": 22,
   "id": "a9e646d8",
   "metadata": {
    "execution": {
     "iopub.execute_input": "2023-12-12T15:33:32.633103Z",
     "iopub.status.busy": "2023-12-12T15:33:32.632762Z",
     "iopub.status.idle": "2023-12-12T15:33:32.637546Z",
     "shell.execute_reply": "2023-12-12T15:33:32.636665Z"
    },
    "papermill": {
     "duration": 0.010242,
     "end_time": "2023-12-12T15:33:32.639200",
     "exception": false,
     "start_time": "2023-12-12T15:33:32.628958",
     "status": "completed"
    },
    "tags": []
   },
   "outputs": [],
   "source": [
    "events_eeg = np.load(r'C:\\Users\\peewe\\Python Projects\\Python_Projects\\ML Project\\ml-project\\inner-speech-recognition\\derivatives\\sub-01\\ses-01\\sub-01_ses-01_events.dat',allow_pickle=True)"
   ]
  },
  {
   "cell_type": "code",
   "execution_count": 24,
   "id": "5c4debb2",
   "metadata": {},
   "outputs": [
    {
     "data": {
      "text/plain": [
       "(200, 4)"
      ]
     },
     "execution_count": 24,
     "metadata": {},
     "output_type": "execute_result"
    }
   ],
   "source": [
    "np.shape(events_eeg)"
   ]
  },
  {
   "cell_type": "code",
   "execution_count": null,
   "id": "bc1a6d42",
   "metadata": {},
   "outputs": [],
   "source": []
  }
 ],
 "metadata": {
  "kaggle": {
   "accelerator": "none",
   "dataSources": [
    {
     "datasetId": 3295125,
     "sourceId": 5729408,
     "sourceType": "datasetVersion"
    }
   ],
   "dockerImageVersionId": 30587,
   "isGpuEnabled": false,
   "isInternetEnabled": false,
   "language": "python",
   "sourceType": "notebook"
  },
  "kernelspec": {
   "display_name": "Python 3",
   "language": "python",
   "name": "python3"
  },
  "language_info": {
   "codemirror_mode": {
    "name": "ipython",
    "version": 3
   },
   "file_extension": ".py",
   "mimetype": "text/x-python",
   "name": "python",
   "nbconvert_exporter": "python",
   "pygments_lexer": "ipython3",
   "version": "3.10.11"
  },
  "papermill": {
   "default_parameters": {},
   "duration": 30.945232,
   "end_time": "2023-12-12T15:33:33.982630",
   "environment_variables": {},
   "exception": null,
   "input_path": "__notebook__.ipynb",
   "output_path": "__notebook__.ipynb",
   "parameters": {},
   "start_time": "2023-12-12T15:33:03.037398",
   "version": "2.4.0"
  }
 },
 "nbformat": 4,
 "nbformat_minor": 5
}

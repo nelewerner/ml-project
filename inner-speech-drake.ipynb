{
 "cells": [
  {
   "cell_type": "code",
   "execution_count": 1,
   "id": "06f3d84c",
   "metadata": {
    "execution": {
     "iopub.execute_input": "2023-12-15T13:53:32.395961Z",
     "iopub.status.busy": "2023-12-15T13:53:32.395559Z",
     "iopub.status.idle": "2023-12-15T13:53:51.937800Z",
     "shell.execute_reply": "2023-12-15T13:53:51.936843Z"
    },
    "papermill": {
     "duration": 19.551187,
     "end_time": "2023-12-15T13:53:51.940677",
     "exception": false,
     "start_time": "2023-12-15T13:53:32.389490",
     "status": "completed"
    },
    "tags": []
   },
   "outputs": [],
   "source": [
    "import numpy as np\n",
    "import pandas as pd\n",
    "import tensorflow as tf\n",
    "import os\n",
    "import shutil\n",
    "import mne\n",
    "import warnings\n",
    "\n",
    "from data_extraction import  Extract_data_from_subject\n",
    "from data_processing import  Select_time_window, Transform_for_classificator, Split_trial_in_time\n",
    "\n",
    "np.random.seed(23)\n",
    "\n",
    "mne.set_log_level(verbose='warning') #to avoid info at terminal\n",
    "warnings.filterwarnings(action = \"ignore\", category = DeprecationWarning ) \n",
    "warnings.filterwarnings(action = \"ignore\", category = FutureWarning ) "
   ]
  },
  {
   "cell_type": "markdown",
   "id": "c61fe71f",
   "metadata": {
    "papermill": {
     "duration": 0.003052,
     "end_time": "2023-12-15T13:53:51.949640",
     "exception": false,
     "start_time": "2023-12-15T13:53:51.946588",
     "status": "completed"
    },
    "tags": []
   },
   "source": [
    "# Notes on Data Extraction:\n",
    "\n",
    "### Parameters\n",
    "> - Sampling Rate (fs) = 256\n",
    "> - data type: eeg, exg or baseline\n",
    "> - T-start: start of window (t=0: focus, t=0.5: arrow, t=1: cue (thinking), t=3.5: rest t=4.5: end)\n",
    "> - T-end: close of window\n",
    "> - N_S: subject number (1 through 10)\n",
    "> - N_B: Session (batch) number\n",
    "\n",
    "### Extract_subject_from_BDF(root_dir,N_S,N_B):\n",
    "\n",
    "> Loads raw data for subject and session. Takes the directory pointing to folder containing all recordings\n",
    "> and preprocessed files, subject number and session/batch number, and returns (raw data, subject number)\n",
    "\n",
    "### Extract_data_from_subject(root_dir,N_S,datatype):\n",
    "\n",
    "> Loads all blocks for one subject and stacks results. Takes the directory, calls the file for specified data \n",
    "> under the specified subject, and stacks all samples into one object. Also calls the labels. Returns (X,Y): \n",
    "> object with stacked trials/samples, and object with correlated labels.\n",
    "\n",
    "### Extract_block_data_from_subject(root_dir,N_S,datatype,N_B):\n",
    "\n",
    "> Does the same as above Extract_data_from_subject, but for a specified N_B (batch or session number).\n",
    "> returns (data samples, labels)\n",
    "\n",
    "### Extract_report(root_dir,N_B,N_S):\n",
    "\n",
    "> Pulls report with information regarding the given subject and session. Includes subject age, gender,\n",
    "> length of recording, count of correct and incorrect answer to control questions, position of contaminated\n",
    "> trials, mean power for EXG channels 7 & 8, and mean and STD for EXG 7 & 8 baseline recordings.\n",
    "\n",
    "### Extract_TFR(TRF_dir, Cond, Class, TFR_method , TRF_type):\n",
    "\n",
    "> Returns Time-Frequency Representation of specified condition and class. \n",
    ">\n",
    "> *Note: location of TRF data unclear, not likely to use in scope of project.*\n",
    "\n",
    "### Extract_data_multisubject(root_dir, N_S_list, datatype='EEG'):\n",
    "\n",
    "> Creates a stacked object of all sessions for all listed subjects and returns the stacked trials/samples\n",
    "> along with a stack of the corresponding labels.\n",
    "\n",
    "### load_events(root_dir,N_S,N_B):\n",
    "\n",
    "> Loads the events file to gather the label(s) for dataset using root directory, subject, and batch number.\n",
    "\n",
    "### Select_time_window(X,t_start=1, t_end=2.5, fs=256):\n",
    "\n",
    "> Cuts samples to desired time window.\n",
    "\n",
    "### Transform_for_classificator (X, Y, Classes, Conditions):\n",
    "\n",
    "> Pulls from the extracted dataset the trials and labels that correspond to the conditions and classes that\n",
    "> will be used for training and/or testing.\n"
   ]
  },
  {
   "cell_type": "code",
   "execution_count": 2,
   "id": "5944de72",
   "metadata": {
    "execution": {
     "iopub.execute_input": "2023-12-15T13:53:51.958453Z",
     "iopub.status.busy": "2023-12-15T13:53:51.957687Z",
     "iopub.status.idle": "2023-12-15T13:53:51.962344Z",
     "shell.execute_reply": "2023-12-15T13:53:51.961453Z"
    },
    "papermill": {
     "duration": 0.011569,
     "end_time": "2023-12-15T13:53:51.964465",
     "exception": false,
     "start_time": "2023-12-15T13:53:51.952896",
     "status": "completed"
    },
    "tags": []
   },
   "outputs": [],
   "source": [
    "root_dir = '/kaggle/input/inner-speech-recognition/inner-speech-recognition'"
   ]
  },
  {
   "cell_type": "code",
   "execution_count": 3,
   "id": "7e8146f6",
   "metadata": {
    "execution": {
     "iopub.execute_input": "2023-12-15T13:53:51.973859Z",
     "iopub.status.busy": "2023-12-15T13:53:51.972910Z",
     "iopub.status.idle": "2023-12-15T13:54:04.545017Z",
     "shell.execute_reply": "2023-12-15T13:54:04.543707Z"
    },
    "papermill": {
     "duration": 12.580012,
     "end_time": "2023-12-15T13:54:04.548248",
     "exception": false,
     "start_time": "2023-12-15T13:53:51.968236",
     "status": "completed"
    },
    "tags": []
   },
   "outputs": [],
   "source": [
    "N_S = 2\n",
    "datatype = 'eeg'\n",
    "Tstart = 1.5\n",
    "Tend = 3.5\n",
    "fs = 256\n",
    "\n",
    "X2,Y2 = Extract_data_from_subject(root_dir,N_S,datatype)"
   ]
  },
  {
   "cell_type": "code",
   "execution_count": 4,
   "id": "2361726f",
   "metadata": {
    "execution": {
     "iopub.execute_input": "2023-12-15T13:54:04.556937Z",
     "iopub.status.busy": "2023-12-15T13:54:04.556528Z",
     "iopub.status.idle": "2023-12-15T13:54:04.562028Z",
     "shell.execute_reply": "2023-12-15T13:54:04.560876Z"
    },
    "papermill": {
     "duration": 0.013025,
     "end_time": "2023-12-15T13:54:04.564671",
     "exception": false,
     "start_time": "2023-12-15T13:54:04.551646",
     "status": "completed"
    },
    "tags": []
   },
   "outputs": [],
   "source": [
    "Subj_2 = Select_time_window(X = X2, t_start = Tstart, t_end = Tend, fs = fs)"
   ]
  },
  {
   "cell_type": "code",
   "execution_count": 5,
   "id": "929245cf",
   "metadata": {
    "execution": {
     "iopub.execute_input": "2023-12-15T13:54:04.573351Z",
     "iopub.status.busy": "2023-12-15T13:54:04.572878Z",
     "iopub.status.idle": "2023-12-15T13:54:04.582173Z",
     "shell.execute_reply": "2023-12-15T13:54:04.581035Z"
    },
    "papermill": {
     "duration": 0.016327,
     "end_time": "2023-12-15T13:54:04.584440",
     "exception": false,
     "start_time": "2023-12-15T13:54:04.568113",
     "status": "completed"
    },
    "tags": []
   },
   "outputs": [
    {
     "data": {
      "text/plain": [
       "(600, 128, 512)"
      ]
     },
     "execution_count": 5,
     "metadata": {},
     "output_type": "execute_result"
    }
   ],
   "source": [
    "np.shape(Subj_2)"
   ]
  }
 ],
 "metadata": {
  "kaggle": {
   "accelerator": "none",
   "dataSources": [
    {
     "datasetId": 3295125,
     "sourceId": 5729408,
     "sourceType": "datasetVersion"
    },
    {
     "sourceId": 155140329,
     "sourceType": "kernelVersion"
    },
    {
     "sourceId": 155138978,
     "sourceType": "kernelVersion"
    },
    {
     "sourceId": 155138881,
     "sourceType": "kernelVersion"
    }
   ],
   "dockerImageVersionId": 30587,
   "isGpuEnabled": false,
   "isInternetEnabled": false,
   "language": "python",
   "sourceType": "notebook"
  },
  "kernelspec": {
   "display_name": "Python 3",
   "language": "python",
   "name": "python3"
  },
  "language_info": {
   "codemirror_mode": {
    "name": "ipython",
    "version": 3
   },
   "file_extension": ".py",
   "mimetype": "text/x-python",
   "name": "python",
   "nbconvert_exporter": "python",
   "pygments_lexer": "ipython3",
   "version": "3.10.12"
  },
  "papermill": {
   "default_parameters": {},
   "duration": 38.754558,
   "end_time": "2023-12-15T13:54:06.906578",
   "environment_variables": {},
   "exception": null,
   "input_path": "__notebook__.ipynb",
   "output_path": "__notebook__.ipynb",
   "parameters": {},
   "start_time": "2023-12-15T13:53:28.152020",
   "version": "2.4.0"
  }
 },
 "nbformat": 4,
 "nbformat_minor": 5
}

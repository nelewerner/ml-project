{
 "cells": [
  {
   "cell_type": "code",
   "execution_count": 1,
   "id": "6dc76704",
   "metadata": {
    "execution": {
     "iopub.execute_input": "2023-12-12T15:33:05.782953Z",
     "iopub.status.busy": "2023-12-12T15:33:05.782378Z",
     "iopub.status.idle": "2023-12-12T15:33:19.768919Z",
     "shell.execute_reply": "2023-12-12T15:33:19.767903Z"
    },
    "papermill": {
     "duration": 13.993321,
     "end_time": "2023-12-12T15:33:19.771171",
     "exception": false,
     "start_time": "2023-12-12T15:33:05.777850",
     "status": "completed"
    },
    "tags": []
   },
   "outputs": [],
   "source": [
    "import numpy as np\n",
    "import pandas as pd\n",
    "import tensorflow as tf\n",
    "import os\n",
    "import shutil\n",
    "import mne\n"
   ]
  },
  {
   "cell_type": "code",
   "execution_count": 2,
   "id": "67436374",
   "metadata": {
    "execution": {
     "iopub.execute_input": "2023-12-12T15:33:19.778978Z",
     "iopub.status.busy": "2023-12-12T15:33:19.778374Z",
     "iopub.status.idle": "2023-12-12T15:33:19.782830Z",
     "shell.execute_reply": "2023-12-12T15:33:19.781909Z"
    },
    "papermill": {
     "duration": 0.010163,
     "end_time": "2023-12-12T15:33:19.785364",
     "exception": false,
     "start_time": "2023-12-12T15:33:19.775201",
     "status": "completed"
    },
    "tags": []
   },
   "outputs": [],
   "source": [
    "session_count = 3"
   ]
  },
  {
   "cell_type": "code",
   "execution_count": 3,
   "id": "db250f11",
   "metadata": {
    "execution": {
     "iopub.execute_input": "2023-12-12T15:33:19.791752Z",
     "iopub.status.busy": "2023-12-12T15:33:19.791337Z",
     "iopub.status.idle": "2023-12-12T15:33:32.168886Z",
     "shell.execute_reply": "2023-12-12T15:33:32.167061Z"
    },
    "papermill": {
     "duration": 12.383233,
     "end_time": "2023-12-12T15:33:32.171153",
     "exception": false,
     "start_time": "2023-12-12T15:33:19.787920",
     "status": "completed"
    },
    "tags": []
   },
   "outputs": [
    {
     "name": "stdout",
     "output_type": "stream",
     "text": [
      "/kaggle/working/data created!\n",
      "ses-02 succesfully copied!\n",
      "ses-01 succesfully copied!\n",
      "ses-03 succesfully copied!\n"
     ]
    }
   ],
   "source": [
    "# Store paths to base, train set and subset dirs\n",
    "base_dir = \"/kaggle/input/inner-speech-recognition\"\n",
    "train_dir = base_dir + \"/inner-speech-recognition/derivatives/sub-01\"\n",
    "subset_dir = \"/kaggle/working/data\"\n",
    "\n",
    "if not os.path.exists(subset_dir):\n",
    "    os.mkdir(subset_dir)\n",
    "    print(subset_dir, \"created!\")\n",
    "else:\n",
    "    print(subset_dir, \"already exists!\")\n",
    "    \n",
    "# Select only first n class dirs\n",
    "class_dirs = os.listdir(train_dir)[:session_count]\n",
    "\n",
    "# Copy class dir from train set to working dir\n",
    "for class_dir in class_dirs:\n",
    "    # Define current source and destination paths\n",
    "    source_dir = train_dir + \"/\" + class_dir\n",
    "    destination_dir = subset_dir + \"/\" + class_dir\n",
    "    \n",
    "    # If new class, copy to working dir\n",
    "    if not os.path.exists(destination_dir):\n",
    "        shutil.copytree(source_dir, destination_dir)\n",
    "        print(class_dir, \"succesfully copied!\")\n",
    "    # If it exists, don't copy again\n",
    "    else:\n",
    "        print(class_dir, \"doesn't need copying!\")"
   ]
  },
  {
   "cell_type": "code",
   "execution_count": 4,
   "id": "65f57989",
   "metadata": {
    "execution": {
     "iopub.execute_input": "2023-12-12T15:33:32.178227Z",
     "iopub.status.busy": "2023-12-12T15:33:32.177805Z",
     "iopub.status.idle": "2023-12-12T15:33:32.611093Z",
     "shell.execute_reply": "2023-12-12T15:33:32.610199Z"
    },
    "papermill": {
     "duration": 0.438986,
     "end_time": "2023-12-12T15:33:32.613034",
     "exception": false,
     "start_time": "2023-12-12T15:33:32.174048",
     "status": "completed"
    },
    "tags": []
   },
   "outputs": [
    {
     "name": "stdout",
     "output_type": "stream",
     "text": [
      "Reading /kaggle/working/data/ses-01/sub-01_ses-01_eeg-epo.fif ...\n",
      "Isotrak not found\n",
      "    Found the data of interest:\n",
      "        t =    -500.00 ...    4000.00 ms\n",
      "        0 CTF compensation matrices available\n",
      "Not setting metadata\n",
      "200 matching events found\n",
      "No baseline correction applied\n",
      "0 projection items activated\n"
     ]
    }
   ],
   "source": [
    "eeg_epochs = mne.read_epochs(subset_dir + '/ses-01/sub-01_ses-01_eeg-epo.fif')\n"
   ]
  },
  {
   "cell_type": "code",
   "execution_count": 5,
   "id": "c0d215b2",
   "metadata": {
    "execution": {
     "iopub.execute_input": "2023-12-12T15:33:32.620008Z",
     "iopub.status.busy": "2023-12-12T15:33:32.619741Z",
     "iopub.status.idle": "2023-12-12T15:33:32.624280Z",
     "shell.execute_reply": "2023-12-12T15:33:32.623298Z"
    },
    "papermill": {
     "duration": 0.01007,
     "end_time": "2023-12-12T15:33:32.626104",
     "exception": false,
     "start_time": "2023-12-12T15:33:32.616034",
     "status": "completed"
    },
    "tags": []
   },
   "outputs": [],
   "source": [
    "with open('/kaggle/working/data/ses-01/sub-01_ses-01_events.dat', 'rb') as f:\n",
    "  text = f.read()"
   ]
  },
  {
   "cell_type": "code",
   "execution_count": 6,
   "id": "a9e646d8",
   "metadata": {
    "execution": {
     "iopub.execute_input": "2023-12-12T15:33:32.633103Z",
     "iopub.status.busy": "2023-12-12T15:33:32.632762Z",
     "iopub.status.idle": "2023-12-12T15:33:32.637546Z",
     "shell.execute_reply": "2023-12-12T15:33:32.636665Z"
    },
    "papermill": {
     "duration": 0.010242,
     "end_time": "2023-12-12T15:33:32.639200",
     "exception": false,
     "start_time": "2023-12-12T15:33:32.628958",
     "status": "completed"
    },
    "tags": []
   },
   "outputs": [],
   "source": [
    "events_eeg = np.load('/kaggle/working/data/ses-01/sub-01_ses-01_events.dat',allow_pickle=True)"
   ]
  },
  {
   "cell_type": "code",
   "execution_count": 7,
   "id": "3df4801f",
   "metadata": {
    "execution": {
     "iopub.execute_input": "2023-12-12T15:33:32.646099Z",
     "iopub.status.busy": "2023-12-12T15:33:32.645782Z",
     "iopub.status.idle": "2023-12-12T15:33:32.655050Z",
     "shell.execute_reply": "2023-12-12T15:33:32.653967Z"
    },
    "papermill": {
     "duration": 0.015243,
     "end_time": "2023-12-12T15:33:32.657254",
     "exception": false,
     "start_time": "2023-12-12T15:33:32.642011",
     "status": "completed"
    },
    "tags": []
   },
   "outputs": [
    {
     "name": "stdout",
     "output_type": "stream",
     "text": [
      "[[  39869       3       0       1]\n",
      " [  46491       0       0       1]\n",
      " [  53010       3       0       1]\n",
      " [  59649       3       0       1]\n",
      " [  66270       2       0       1]\n",
      " [  73063       1       0       1]\n",
      " [  79838       3       0       1]\n",
      " [  86528       1       0       1]\n",
      " [  93064       3       0       1]\n",
      " [  99823       1       0       1]\n",
      " [ 106461       0       0       1]\n",
      " [ 113015       0       0       1]\n",
      " [ 119824       3       0       1]\n",
      " [ 126651       2       0       1]\n",
      " [ 133289       1       0       1]\n",
      " [ 139996       0       0       1]\n",
      " [ 146669       0       0       1]\n",
      " [ 153154       3       0       1]\n",
      " [ 159691       1       0       1]\n",
      " [ 166295       3       0       1]\n",
      " [ 172815       1       0       1]\n",
      " [ 179641       2       0       1]\n",
      " [ 186109       1       0       1]\n",
      " [ 192612       0       0       1]\n",
      " [ 199080       2       0       1]\n",
      " [ 205582       2       0       1]\n",
      " [ 212169       1       0       1]\n",
      " [ 218723       0       0       1]\n",
      " [ 225583       2       0       1]\n",
      " [ 232154       2       0       1]\n",
      " [ 238605       3       0       1]\n",
      " [ 245431       0       0       1]\n",
      " [ 252309       1       0       1]\n",
      " [ 258914       2       0       1]\n",
      " [ 265348       2       0       1]\n",
      " [ 271833       2       0       1]\n",
      " [ 278420       3       0       1]\n",
      " [ 285110       0       0       1]\n",
      " [ 291630       0       0       1]\n",
      " [ 298303       1       0       1]\n",
      " [ 351788       1       1       1]\n",
      " [ 358546       1       1       1]\n",
      " [ 365390       3       1       1]\n",
      " [ 372216       3       1       1]\n",
      " [ 387985       3       1       1]\n",
      " [ 394471       0       1       1]\n",
      " [ 400870       2       1       1]\n",
      " [ 407629       3       1       1]\n",
      " [ 421964       3       1       1]\n",
      " [ 428808       1       1       1]\n",
      " [ 435481       0       1       1]\n",
      " [ 448707       1       1       1]\n",
      " [ 455482       3       1       1]\n",
      " [ 462138       3       1       1]\n",
      " [ 468606       1       1       1]\n",
      " [ 481969       2       1       1]\n",
      " [ 488352       0       1       1]\n",
      " [ 494956       2       1       1]\n",
      " [ 501407       0       1       1]\n",
      " [ 514582       3       1       1]\n",
      " [ 521204       1       1       1]\n",
      " [ 527826       0       1       1]\n",
      " [ 534243       1       1       1]\n",
      " [ 547059       1       1       1]\n",
      " [ 553459       3       1       1]\n",
      " [ 560098       2       1       1]\n",
      " [ 572812       2       1       1]\n",
      " [ 579588       0       1       1]\n",
      " [ 586312       1       1       1]\n",
      " [ 592763       2       1       1]\n",
      " [ 605289       2       1       1]\n",
      " [ 612150       0       1       1]\n",
      " [ 618857       1       1       1]\n",
      " [ 625666       2       1       1]\n",
      " [ 638500       3       1       1]\n",
      " [ 645309       0       1       1]\n",
      " [ 651726       2       1       1]\n",
      " [ 664321       0       1       1]\n",
      " [ 670892       0       1       1]\n",
      " [ 677667       2       1       1]\n",
      " [ 737211       3       1       1]\n",
      " [ 743764       0       1       1]\n",
      " [ 750352       2       1       1]\n",
      " [ 764431       0       1       1]\n",
      " [ 771241       1       1       1]\n",
      " [ 777931       1       1       1]\n",
      " [ 790884       3       1       1]\n",
      " [ 797472       0       1       1]\n",
      " [ 804093       2       1       1]\n",
      " [ 816296       3       1       1]\n",
      " [ 822764       3       1       1]\n",
      " [ 829334       0       1       1]\n",
      " [ 836007       2       1       1]\n",
      " [ 848295       1       1       1]\n",
      " [ 854985       1       1       1]\n",
      " [ 861521       1       1       1]\n",
      " [ 874286       3       1       1]\n",
      " [ 881045       1       1       1]\n",
      " [ 887564       1       1       1]\n",
      " [ 894220       2       1       1]\n",
      " [ 906354       3       1       1]\n",
      " [ 913180       1       1       1]\n",
      " [ 919973       1       1       1]\n",
      " [ 926458       0       1       1]\n",
      " [ 939138       2       1       1]\n",
      " [ 945708       3       1       1]\n",
      " [ 952228       3       1       1]\n",
      " [ 964567       0       1       1]\n",
      " [ 971171       2       1       1]\n",
      " [ 977588       0       1       1]\n",
      " [ 990166       2       1       1]\n",
      " [ 996890       2       1       1]\n",
      " [1003614       0       1       1]\n",
      " [1016294       0       1       1]\n",
      " [1022711       0       1       1]\n",
      " [1029265       1       1       1]\n",
      " [1041928       2       1       1]\n",
      " [1048532       3       1       1]\n",
      " [1055308       3       1       1]\n",
      " [1062049       2       1       1]\n",
      " [1121166       0       2       1]\n",
      " [1127924       2       2       1]\n",
      " [1134529       1       2       1]\n",
      " [1140929       1       2       1]\n",
      " [1154582       0       2       1]\n",
      " [1161186       0       2       1]\n",
      " [1167637       2       2       1]\n",
      " [1174173       1       2       1]\n",
      " [1186615       0       2       1]\n",
      " [1193339       3       2       1]\n",
      " [1199841       2       2       1]\n",
      " [1212880       2       2       1]\n",
      " [1219655       2       2       1]\n",
      " [1226140       3       2       1]\n",
      " [1238530       0       2       1]\n",
      " [1245169       0       2       1]\n",
      " [1251876       1       2       1]\n",
      " [1264198       2       2       1]\n",
      " [1270870       3       2       1]\n",
      " [1277560       0       2       1]\n",
      " [1290189       3       2       1]\n",
      " [1297033       1       2       1]\n",
      " [1303535       1       2       1]\n",
      " [1310276       3       2       1]\n",
      " [1322786       2       2       1]\n",
      " [1329476       2       2       1]\n",
      " [1336097       1       2       1]\n",
      " [1348829       3       2       1]\n",
      " [1355587       3       2       1]\n",
      " [1362124       0       2       1]\n",
      " [1368830       1       2       1]\n",
      " [1381459       1       2       1]\n",
      " [1388269       3       2       1]\n",
      " [1394771       0       2       1]\n",
      " [1401461       2       2       1]\n",
      " [1414073       3       2       1]\n",
      " [1420899       2       2       1]\n",
      " [1427402       0       2       1]\n",
      " [1433938       1       2       1]\n",
      " [1446157       3       2       1]\n",
      " [1499626       2       2       1]\n",
      " [1506333       2       2       1]\n",
      " [1512869       3       2       1]\n",
      " [1519610       3       2       1]\n",
      " [1533092       2       2       1]\n",
      " [1539851       1       2       1]\n",
      " [1546472       0       2       1]\n",
      " [1552855       3       2       1]\n",
      " [1565262       0       2       1]\n",
      " [1571747       1       2       1]\n",
      " [1578198       3       2       1]\n",
      " [1590947       3       2       1]\n",
      " [1597756       0       2       1]\n",
      " [1604344       3       2       1]\n",
      " [1616973       2       2       1]\n",
      " [1623782       3       2       1]\n",
      " [1630557       3       2       1]\n",
      " [1642862       0       2       1]\n",
      " [1649637       3       2       1]\n",
      " [1656498       1       2       1]\n",
      " [1668973       2       2       1]\n",
      " [1675578       2       2       1]\n",
      " [1682353       2       2       1]\n",
      " [1689095       0       2       1]\n",
      " [1701228       1       2       1]\n",
      " [1708089       2       2       1]\n",
      " [1714728       1       2       1]\n",
      " [1721520       2       2       1]\n",
      " [1734934       1       2       1]\n",
      " [1741402       0       2       1]\n",
      " [1747973       1       2       1]\n",
      " [1760482       0       2       1]\n",
      " [1767240       1       2       1]\n",
      " [1773777       0       2       1]\n",
      " [1780433       0       2       1]\n",
      " [1792515       2       2       1]\n",
      " [1798983       1       2       1]\n",
      " [1805725       3       2       1]\n",
      " [1818234       0       2       1]\n",
      " [1824873       1       2       1]]\n"
     ]
    }
   ],
   "source": [
    "print(events_eeg)"
   ]
  }
 ],
 "metadata": {
  "kaggle": {
   "accelerator": "none",
   "dataSources": [
    {
     "datasetId": 3295125,
     "sourceId": 5729408,
     "sourceType": "datasetVersion"
    }
   ],
   "dockerImageVersionId": 30587,
   "isGpuEnabled": false,
   "isInternetEnabled": false,
   "language": "python",
   "sourceType": "notebook"
  },
  "kernelspec": {
   "display_name": "Python 3",
   "language": "python",
   "name": "python3"
  },
  "language_info": {
   "codemirror_mode": {
    "name": "ipython",
    "version": 3
   },
   "file_extension": ".py",
   "mimetype": "text/x-python",
   "name": "python",
   "nbconvert_exporter": "python",
   "pygments_lexer": "ipython3",
   "version": "3.10.12"
  },
  "papermill": {
   "default_parameters": {},
   "duration": 30.945232,
   "end_time": "2023-12-12T15:33:33.982630",
   "environment_variables": {},
   "exception": null,
   "input_path": "__notebook__.ipynb",
   "output_path": "__notebook__.ipynb",
   "parameters": {},
   "start_time": "2023-12-12T15:33:03.037398",
   "version": "2.4.0"
  }
 },
 "nbformat": 4,
 "nbformat_minor": 5
}
